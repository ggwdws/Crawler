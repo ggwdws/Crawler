{
 "cells": [
  {
   "cell_type": "code",
   "execution_count": 1,
   "metadata": {},
   "outputs": [],
   "source": [
    "from selenium import webdriver\n",
    "from bs4 import BeautifulSoup\n",
    "import requests\n",
    "import time\n",
    "\n",
    "import emotion_eng # Need to import from https://github.com/redtreeai/easy_text_emotion/blob/master/emotion_eng.py"
   ]
  },
  {
   "cell_type": "code",
   "execution_count": 2,
   "metadata": {},
   "outputs": [],
   "source": [
    "def get_cgtn_news(keyword, total_num, mode = 't'):\n",
    "        driver = webdriver.PhantomJS(service_args=['--ignore-ssl-errors=true', '--ssl-protocol=TLSv1'])\n",
    "        url = 'https://www.cgtn.com/search?keyword={}'.format(keyword)\n",
    "        driver.get(url)\n",
    "        driver.find_element_by_class_name('date-sort-{}'.format(mode)).click()\n",
    "        for i in range(int(total_num / 10)):\n",
    "            driver.execute_script(\"window.scrollTo(0, document.body.scrollHeight);\")\n",
    "            time.sleep(1)\n",
    "            driver.find_element_by_class_name('loader-more').click()\n",
    "\n",
    "        driver.execute_script(\"window.scrollTo(0, document.body.scrollHeight);\")\n",
    "        time.sleep(1)\n",
    "\n",
    "        info_title = BeautifulSoup(driver.page_source, 'html.parser').find_all('div', class_='title')\n",
    "        \n",
    "        data = []\n",
    "        num = 0\n",
    "        for title in info_title:\n",
    "\n",
    "            title = title.text\n",
    "            data.append(title)\n",
    "\n",
    "        return data"
   ]
  },
  {
   "cell_type": "code",
   "execution_count": 3,
   "metadata": {},
   "outputs": [
    {
     "name": "stderr",
     "output_type": "stream",
     "text": [
      "/home/dc2-user/anaconda3/envs/cra/lib/python3.7/site-packages/selenium/webdriver/phantomjs/webdriver.py:49: UserWarning: Selenium support for PhantomJS has been deprecated, please use headless versions of Chrome or Firefox instead\n",
      "  warnings.warn('Selenium support for PhantomJS has been deprecated, please use headless '\n",
      "/home/dc2-user/anaconda3/envs/cra/lib/python3.7/site-packages/selenium/webdriver/phantomjs/webdriver.py:49: UserWarning: Selenium support for PhantomJS has been deprecated, please use headless versions of Chrome or Firefox instead\n",
      "  warnings.warn('Selenium support for PhantomJS has been deprecated, please use headless '\n"
     ]
    }
   ],
   "source": [
    "data_t = get_cgtn_news('trump', 100)\n",
    "data_f = get_cgtn_news('trump', 100, mode = 'f')"
   ]
  },
  {
   "cell_type": "code",
   "execution_count": 4,
   "metadata": {},
   "outputs": [
    {
     "name": "stdout",
     "output_type": "stream",
     "text": [
      "3.0 0.0\n",
      "6.0 6.0\n",
      "13.046811 18.463786\n",
      "71 77\n"
     ]
    }
   ],
   "source": [
    "sum_f = sum_t = 0\n",
    "num_f = num_t = 0\n",
    "\n",
    "for idx in range(100):\n",
    "    out_put = emotion_eng.getMoodValue(data_f[idx])\n",
    "    sum_f += out_put['all_value']\n",
    "    if(out_put['all_value'] == 0):\n",
    "        num_f += 1\n",
    "    out_put = emotion_eng.getMoodValue(data_t[idx])\n",
    "    sum_t += out_put['all_value']\n",
    "    if(out_put['all_value'] == 0):\n",
    "        num_t += 1\n",
    "    \n",
    "    if(idx == 19 or idx == 49 or idx == 99):\n",
    "        print(sum_f, sum_t)\n",
    "        \n",
    "print(num_f, num_t)"
   ]
  },
  {
   "cell_type": "code",
   "execution_count": null,
   "metadata": {},
   "outputs": [],
   "source": []
  }
 ],
 "metadata": {
  "kernelspec": {
   "display_name": "Python 3",
   "language": "python",
   "name": "python3"
  },
  "language_info": {
   "codemirror_mode": {
    "name": "ipython",
    "version": 3
   },
   "file_extension": ".py",
   "mimetype": "text/x-python",
   "name": "python",
   "nbconvert_exporter": "python",
   "pygments_lexer": "ipython3",
   "version": "3.7.6"
  }
 },
 "nbformat": 4,
 "nbformat_minor": 4
}
